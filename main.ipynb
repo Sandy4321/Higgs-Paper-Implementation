{
 "cells": [
  {
   "cell_type": "code",
   "execution_count": 399,
   "metadata": {},
   "outputs": [],
   "source": [
    "import pandas as pd\n",
    "df = pd.read_csv(\"higgs_boson_data.csv\")"
   ]
  },
  {
   "cell_type": "code",
   "execution_count": 400,
   "metadata": {},
   "outputs": [
    {
     "data": {
      "text/html": [
       "<div>\n",
       "<style scoped>\n",
       "    .dataframe tbody tr th:only-of-type {\n",
       "        vertical-align: middle;\n",
       "    }\n",
       "\n",
       "    .dataframe tbody tr th {\n",
       "        vertical-align: top;\n",
       "    }\n",
       "\n",
       "    .dataframe thead th {\n",
       "        text-align: right;\n",
       "    }\n",
       "</style>\n",
       "<table border=\"1\" class=\"dataframe\">\n",
       "  <thead>\n",
       "    <tr style=\"text-align: right;\">\n",
       "      <th></th>\n",
       "      <th>EventId</th>\n",
       "      <th>DER_mass_MMC</th>\n",
       "      <th>DER_mass_transverse_met_lep</th>\n",
       "      <th>DER_mass_vis</th>\n",
       "      <th>DER_pt_h</th>\n",
       "      <th>DER_deltaeta_jet_jet</th>\n",
       "      <th>DER_mass_jet_jet</th>\n",
       "      <th>DER_prodeta_jet_jet</th>\n",
       "      <th>DER_deltar_tau_lep</th>\n",
       "      <th>DER_pt_tot</th>\n",
       "      <th>...</th>\n",
       "      <th>PRI_jet_num</th>\n",
       "      <th>PRI_jet_leading_pt</th>\n",
       "      <th>PRI_jet_leading_eta</th>\n",
       "      <th>PRI_jet_leading_phi</th>\n",
       "      <th>PRI_jet_subleading_pt</th>\n",
       "      <th>PRI_jet_subleading_eta</th>\n",
       "      <th>PRI_jet_subleading_phi</th>\n",
       "      <th>PRI_jet_all_pt</th>\n",
       "      <th>Weight</th>\n",
       "      <th>Label</th>\n",
       "    </tr>\n",
       "  </thead>\n",
       "  <tbody>\n",
       "    <tr>\n",
       "      <th>0</th>\n",
       "      <td>100000</td>\n",
       "      <td>138.470</td>\n",
       "      <td>51.655</td>\n",
       "      <td>97.827</td>\n",
       "      <td>27.980</td>\n",
       "      <td>0.91</td>\n",
       "      <td>124.711</td>\n",
       "      <td>2.666</td>\n",
       "      <td>3.064</td>\n",
       "      <td>41.928</td>\n",
       "      <td>...</td>\n",
       "      <td>2</td>\n",
       "      <td>67.435</td>\n",
       "      <td>2.150</td>\n",
       "      <td>0.444</td>\n",
       "      <td>46.062</td>\n",
       "      <td>1.24</td>\n",
       "      <td>-2.475</td>\n",
       "      <td>113.497</td>\n",
       "      <td>0.002653</td>\n",
       "      <td>s</td>\n",
       "    </tr>\n",
       "    <tr>\n",
       "      <th>1</th>\n",
       "      <td>100001</td>\n",
       "      <td>160.937</td>\n",
       "      <td>68.768</td>\n",
       "      <td>103.235</td>\n",
       "      <td>48.146</td>\n",
       "      <td>-999.00</td>\n",
       "      <td>-999.000</td>\n",
       "      <td>-999.000</td>\n",
       "      <td>3.473</td>\n",
       "      <td>2.078</td>\n",
       "      <td>...</td>\n",
       "      <td>1</td>\n",
       "      <td>46.226</td>\n",
       "      <td>0.725</td>\n",
       "      <td>1.158</td>\n",
       "      <td>-999.000</td>\n",
       "      <td>-999.00</td>\n",
       "      <td>-999.000</td>\n",
       "      <td>46.226</td>\n",
       "      <td>2.233584</td>\n",
       "      <td>b</td>\n",
       "    </tr>\n",
       "    <tr>\n",
       "      <th>2</th>\n",
       "      <td>100002</td>\n",
       "      <td>-999.000</td>\n",
       "      <td>162.172</td>\n",
       "      <td>125.953</td>\n",
       "      <td>35.635</td>\n",
       "      <td>-999.00</td>\n",
       "      <td>-999.000</td>\n",
       "      <td>-999.000</td>\n",
       "      <td>3.148</td>\n",
       "      <td>9.336</td>\n",
       "      <td>...</td>\n",
       "      <td>1</td>\n",
       "      <td>44.251</td>\n",
       "      <td>2.053</td>\n",
       "      <td>-2.028</td>\n",
       "      <td>-999.000</td>\n",
       "      <td>-999.00</td>\n",
       "      <td>-999.000</td>\n",
       "      <td>44.251</td>\n",
       "      <td>2.347389</td>\n",
       "      <td>b</td>\n",
       "    </tr>\n",
       "    <tr>\n",
       "      <th>3</th>\n",
       "      <td>100003</td>\n",
       "      <td>143.905</td>\n",
       "      <td>81.417</td>\n",
       "      <td>80.943</td>\n",
       "      <td>0.414</td>\n",
       "      <td>-999.00</td>\n",
       "      <td>-999.000</td>\n",
       "      <td>-999.000</td>\n",
       "      <td>3.310</td>\n",
       "      <td>0.414</td>\n",
       "      <td>...</td>\n",
       "      <td>0</td>\n",
       "      <td>-999.000</td>\n",
       "      <td>-999.000</td>\n",
       "      <td>-999.000</td>\n",
       "      <td>-999.000</td>\n",
       "      <td>-999.00</td>\n",
       "      <td>-999.000</td>\n",
       "      <td>-0.000</td>\n",
       "      <td>5.446378</td>\n",
       "      <td>b</td>\n",
       "    </tr>\n",
       "    <tr>\n",
       "      <th>4</th>\n",
       "      <td>100004</td>\n",
       "      <td>175.864</td>\n",
       "      <td>16.915</td>\n",
       "      <td>134.805</td>\n",
       "      <td>16.405</td>\n",
       "      <td>-999.00</td>\n",
       "      <td>-999.000</td>\n",
       "      <td>-999.000</td>\n",
       "      <td>3.891</td>\n",
       "      <td>16.405</td>\n",
       "      <td>...</td>\n",
       "      <td>0</td>\n",
       "      <td>-999.000</td>\n",
       "      <td>-999.000</td>\n",
       "      <td>-999.000</td>\n",
       "      <td>-999.000</td>\n",
       "      <td>-999.00</td>\n",
       "      <td>-999.000</td>\n",
       "      <td>0.000</td>\n",
       "      <td>6.245333</td>\n",
       "      <td>b</td>\n",
       "    </tr>\n",
       "  </tbody>\n",
       "</table>\n",
       "<p>5 rows × 33 columns</p>\n",
       "</div>"
      ],
      "text/plain": [
       "   EventId  DER_mass_MMC  DER_mass_transverse_met_lep  DER_mass_vis  DER_pt_h  \\\n",
       "0   100000       138.470                       51.655        97.827    27.980   \n",
       "1   100001       160.937                       68.768       103.235    48.146   \n",
       "2   100002      -999.000                      162.172       125.953    35.635   \n",
       "3   100003       143.905                       81.417        80.943     0.414   \n",
       "4   100004       175.864                       16.915       134.805    16.405   \n",
       "\n",
       "   DER_deltaeta_jet_jet  DER_mass_jet_jet  DER_prodeta_jet_jet  \\\n",
       "0                  0.91           124.711                2.666   \n",
       "1               -999.00          -999.000             -999.000   \n",
       "2               -999.00          -999.000             -999.000   \n",
       "3               -999.00          -999.000             -999.000   \n",
       "4               -999.00          -999.000             -999.000   \n",
       "\n",
       "   DER_deltar_tau_lep  DER_pt_tot  ...  PRI_jet_num  PRI_jet_leading_pt  \\\n",
       "0               3.064      41.928  ...            2              67.435   \n",
       "1               3.473       2.078  ...            1              46.226   \n",
       "2               3.148       9.336  ...            1              44.251   \n",
       "3               3.310       0.414  ...            0            -999.000   \n",
       "4               3.891      16.405  ...            0            -999.000   \n",
       "\n",
       "   PRI_jet_leading_eta  PRI_jet_leading_phi  PRI_jet_subleading_pt  \\\n",
       "0                2.150                0.444                 46.062   \n",
       "1                0.725                1.158               -999.000   \n",
       "2                2.053               -2.028               -999.000   \n",
       "3             -999.000             -999.000               -999.000   \n",
       "4             -999.000             -999.000               -999.000   \n",
       "\n",
       "   PRI_jet_subleading_eta  PRI_jet_subleading_phi  PRI_jet_all_pt    Weight  \\\n",
       "0                    1.24                  -2.475         113.497  0.002653   \n",
       "1                 -999.00                -999.000          46.226  2.233584   \n",
       "2                 -999.00                -999.000          44.251  2.347389   \n",
       "3                 -999.00                -999.000          -0.000  5.446378   \n",
       "4                 -999.00                -999.000           0.000  6.245333   \n",
       "\n",
       "   Label  \n",
       "0      s  \n",
       "1      b  \n",
       "2      b  \n",
       "3      b  \n",
       "4      b  \n",
       "\n",
       "[5 rows x 33 columns]"
      ]
     },
     "execution_count": 400,
     "metadata": {},
     "output_type": "execute_result"
    }
   ],
   "source": [
    "df.head(5)"
   ]
  },
  {
   "cell_type": "code",
   "execution_count": 401,
   "metadata": {},
   "outputs": [
    {
     "data": {
      "text/plain": [
       "EventId                          int64\n",
       "DER_mass_MMC                   float64\n",
       "DER_mass_transverse_met_lep    float64\n",
       "DER_mass_vis                   float64\n",
       "DER_pt_h                       float64\n",
       "DER_deltaeta_jet_jet           float64\n",
       "DER_mass_jet_jet               float64\n",
       "DER_prodeta_jet_jet            float64\n",
       "DER_deltar_tau_lep             float64\n",
       "DER_pt_tot                     float64\n",
       "DER_sum_pt                     float64\n",
       "DER_pt_ratio_lep_tau           float64\n",
       "DER_met_phi_centrality         float64\n",
       "DER_lep_eta_centrality         float64\n",
       "PRI_tau_pt                     float64\n",
       "PRI_tau_eta                    float64\n",
       "PRI_tau_phi                    float64\n",
       "PRI_lep_pt                     float64\n",
       "PRI_lep_eta                    float64\n",
       "PRI_lep_phi                    float64\n",
       "PRI_met                        float64\n",
       "PRI_met_phi                    float64\n",
       "PRI_met_sumet                  float64\n",
       "PRI_jet_num                      int64\n",
       "PRI_jet_leading_pt             float64\n",
       "PRI_jet_leading_eta            float64\n",
       "PRI_jet_leading_phi            float64\n",
       "PRI_jet_subleading_pt          float64\n",
       "PRI_jet_subleading_eta         float64\n",
       "PRI_jet_subleading_phi         float64\n",
       "PRI_jet_all_pt                 float64\n",
       "Weight                         float64\n",
       "Label                           object\n",
       "dtype: object"
      ]
     },
     "execution_count": 401,
     "metadata": {},
     "output_type": "execute_result"
    }
   ],
   "source": [
    "df.dtypes"
   ]
  },
  {
   "cell_type": "code",
   "execution_count": 402,
   "metadata": {},
   "outputs": [],
   "source": [
    "# df.corr()"
   ]
  },
  {
   "cell_type": "code",
   "execution_count": 403,
   "metadata": {},
   "outputs": [],
   "source": [
    "# !pip install seaborn\n",
    "import seaborn as sns"
   ]
  },
  {
   "cell_type": "code",
   "execution_count": 404,
   "metadata": {},
   "outputs": [],
   "source": [
    "df_corr = df[['DER_mass_MMC','DER_deltaeta_jet_jet','DER_mass_jet_jet','DER_prodeta_jet_jet','DER_lep_eta_centrality','PRI_jet_leading_pt','PRI_jet_leading_eta','PRI_jet_leading_phi','PRI_jet_subleading_pt','PRI_jet_subleading_eta','PRI_jet_subleading_phi']]"
   ]
  },
  {
   "cell_type": "code",
   "execution_count": 405,
   "metadata": {},
   "outputs": [
    {
     "data": {
      "text/html": [
       "<div>\n",
       "<style scoped>\n",
       "    .dataframe tbody tr th:only-of-type {\n",
       "        vertical-align: middle;\n",
       "    }\n",
       "\n",
       "    .dataframe tbody tr th {\n",
       "        vertical-align: top;\n",
       "    }\n",
       "\n",
       "    .dataframe thead th {\n",
       "        text-align: right;\n",
       "    }\n",
       "</style>\n",
       "<table border=\"1\" class=\"dataframe\">\n",
       "  <thead>\n",
       "    <tr style=\"text-align: right;\">\n",
       "      <th></th>\n",
       "      <th>DER_mass_MMC</th>\n",
       "      <th>DER_deltaeta_jet_jet</th>\n",
       "      <th>DER_mass_jet_jet</th>\n",
       "      <th>DER_prodeta_jet_jet</th>\n",
       "      <th>DER_lep_eta_centrality</th>\n",
       "      <th>PRI_jet_leading_pt</th>\n",
       "      <th>PRI_jet_leading_eta</th>\n",
       "      <th>PRI_jet_leading_phi</th>\n",
       "      <th>PRI_jet_subleading_pt</th>\n",
       "      <th>PRI_jet_subleading_eta</th>\n",
       "      <th>PRI_jet_subleading_phi</th>\n",
       "    </tr>\n",
       "  </thead>\n",
       "  <tbody>\n",
       "    <tr>\n",
       "      <th>DER_mass_MMC</th>\n",
       "      <td>1.000000</td>\n",
       "      <td>0.162661</td>\n",
       "      <td>0.160524</td>\n",
       "      <td>0.162521</td>\n",
       "      <td>0.162623</td>\n",
       "      <td>0.250158</td>\n",
       "      <td>0.247083</td>\n",
       "      <td>0.247078</td>\n",
       "      <td>0.162836</td>\n",
       "      <td>0.162614</td>\n",
       "      <td>0.162609</td>\n",
       "    </tr>\n",
       "    <tr>\n",
       "      <th>DER_deltaeta_jet_jet</th>\n",
       "      <td>0.162661</td>\n",
       "      <td>1.000000</td>\n",
       "      <td>0.946045</td>\n",
       "      <td>0.999981</td>\n",
       "      <td>0.999998</td>\n",
       "      <td>0.545027</td>\n",
       "      <td>0.521657</td>\n",
       "      <td>0.521664</td>\n",
       "      <td>0.999346</td>\n",
       "      <td>0.999995</td>\n",
       "      <td>0.999996</td>\n",
       "    </tr>\n",
       "    <tr>\n",
       "      <th>DER_mass_jet_jet</th>\n",
       "      <td>0.160524</td>\n",
       "      <td>0.946045</td>\n",
       "      <td>1.000000</td>\n",
       "      <td>0.944443</td>\n",
       "      <td>0.945584</td>\n",
       "      <td>0.521645</td>\n",
       "      <td>0.493233</td>\n",
       "      <td>0.493241</td>\n",
       "      <td>0.947652</td>\n",
       "      <td>0.945505</td>\n",
       "      <td>0.945507</td>\n",
       "    </tr>\n",
       "    <tr>\n",
       "      <th>DER_prodeta_jet_jet</th>\n",
       "      <td>0.162521</td>\n",
       "      <td>0.999981</td>\n",
       "      <td>0.944443</td>\n",
       "      <td>1.000000</td>\n",
       "      <td>0.999990</td>\n",
       "      <td>0.545022</td>\n",
       "      <td>0.521653</td>\n",
       "      <td>0.521661</td>\n",
       "      <td>0.999347</td>\n",
       "      <td>0.999988</td>\n",
       "      <td>0.999989</td>\n",
       "    </tr>\n",
       "    <tr>\n",
       "      <th>DER_lep_eta_centrality</th>\n",
       "      <td>0.162623</td>\n",
       "      <td>0.999998</td>\n",
       "      <td>0.945584</td>\n",
       "      <td>0.999990</td>\n",
       "      <td>1.000000</td>\n",
       "      <td>0.545035</td>\n",
       "      <td>0.521658</td>\n",
       "      <td>0.521665</td>\n",
       "      <td>0.999355</td>\n",
       "      <td>0.999997</td>\n",
       "      <td>0.999998</td>\n",
       "    </tr>\n",
       "    <tr>\n",
       "      <th>PRI_jet_leading_pt</th>\n",
       "      <td>0.250158</td>\n",
       "      <td>0.545027</td>\n",
       "      <td>0.521645</td>\n",
       "      <td>0.545022</td>\n",
       "      <td>0.545035</td>\n",
       "      <td>1.000000</td>\n",
       "      <td>0.996100</td>\n",
       "      <td>0.996100</td>\n",
       "      <td>0.546079</td>\n",
       "      <td>0.545033</td>\n",
       "      <td>0.545033</td>\n",
       "    </tr>\n",
       "    <tr>\n",
       "      <th>PRI_jet_leading_eta</th>\n",
       "      <td>0.247083</td>\n",
       "      <td>0.521657</td>\n",
       "      <td>0.493233</td>\n",
       "      <td>0.521653</td>\n",
       "      <td>0.521658</td>\n",
       "      <td>0.996100</td>\n",
       "      <td>1.000000</td>\n",
       "      <td>0.999992</td>\n",
       "      <td>0.521322</td>\n",
       "      <td>0.521656</td>\n",
       "      <td>0.521657</td>\n",
       "    </tr>\n",
       "    <tr>\n",
       "      <th>PRI_jet_leading_phi</th>\n",
       "      <td>0.247078</td>\n",
       "      <td>0.521664</td>\n",
       "      <td>0.493241</td>\n",
       "      <td>0.521661</td>\n",
       "      <td>0.521665</td>\n",
       "      <td>0.996100</td>\n",
       "      <td>0.999992</td>\n",
       "      <td>1.000000</td>\n",
       "      <td>0.521329</td>\n",
       "      <td>0.521664</td>\n",
       "      <td>0.521664</td>\n",
       "    </tr>\n",
       "    <tr>\n",
       "      <th>PRI_jet_subleading_pt</th>\n",
       "      <td>0.162836</td>\n",
       "      <td>0.999346</td>\n",
       "      <td>0.947652</td>\n",
       "      <td>0.999347</td>\n",
       "      <td>0.999355</td>\n",
       "      <td>0.546079</td>\n",
       "      <td>0.521322</td>\n",
       "      <td>0.521329</td>\n",
       "      <td>1.000000</td>\n",
       "      <td>0.999352</td>\n",
       "      <td>0.999352</td>\n",
       "    </tr>\n",
       "    <tr>\n",
       "      <th>PRI_jet_subleading_eta</th>\n",
       "      <td>0.162614</td>\n",
       "      <td>0.999995</td>\n",
       "      <td>0.945505</td>\n",
       "      <td>0.999988</td>\n",
       "      <td>0.999997</td>\n",
       "      <td>0.545033</td>\n",
       "      <td>0.521656</td>\n",
       "      <td>0.521664</td>\n",
       "      <td>0.999352</td>\n",
       "      <td>1.000000</td>\n",
       "      <td>0.999995</td>\n",
       "    </tr>\n",
       "    <tr>\n",
       "      <th>PRI_jet_subleading_phi</th>\n",
       "      <td>0.162609</td>\n",
       "      <td>0.999996</td>\n",
       "      <td>0.945507</td>\n",
       "      <td>0.999989</td>\n",
       "      <td>0.999998</td>\n",
       "      <td>0.545033</td>\n",
       "      <td>0.521657</td>\n",
       "      <td>0.521664</td>\n",
       "      <td>0.999352</td>\n",
       "      <td>0.999995</td>\n",
       "      <td>1.000000</td>\n",
       "    </tr>\n",
       "  </tbody>\n",
       "</table>\n",
       "</div>"
      ],
      "text/plain": [
       "                        DER_mass_MMC  DER_deltaeta_jet_jet  DER_mass_jet_jet  \\\n",
       "DER_mass_MMC                1.000000              0.162661          0.160524   \n",
       "DER_deltaeta_jet_jet        0.162661              1.000000          0.946045   \n",
       "DER_mass_jet_jet            0.160524              0.946045          1.000000   \n",
       "DER_prodeta_jet_jet         0.162521              0.999981          0.944443   \n",
       "DER_lep_eta_centrality      0.162623              0.999998          0.945584   \n",
       "PRI_jet_leading_pt          0.250158              0.545027          0.521645   \n",
       "PRI_jet_leading_eta         0.247083              0.521657          0.493233   \n",
       "PRI_jet_leading_phi         0.247078              0.521664          0.493241   \n",
       "PRI_jet_subleading_pt       0.162836              0.999346          0.947652   \n",
       "PRI_jet_subleading_eta      0.162614              0.999995          0.945505   \n",
       "PRI_jet_subleading_phi      0.162609              0.999996          0.945507   \n",
       "\n",
       "                        DER_prodeta_jet_jet  DER_lep_eta_centrality  \\\n",
       "DER_mass_MMC                       0.162521                0.162623   \n",
       "DER_deltaeta_jet_jet               0.999981                0.999998   \n",
       "DER_mass_jet_jet                   0.944443                0.945584   \n",
       "DER_prodeta_jet_jet                1.000000                0.999990   \n",
       "DER_lep_eta_centrality             0.999990                1.000000   \n",
       "PRI_jet_leading_pt                 0.545022                0.545035   \n",
       "PRI_jet_leading_eta                0.521653                0.521658   \n",
       "PRI_jet_leading_phi                0.521661                0.521665   \n",
       "PRI_jet_subleading_pt              0.999347                0.999355   \n",
       "PRI_jet_subleading_eta             0.999988                0.999997   \n",
       "PRI_jet_subleading_phi             0.999989                0.999998   \n",
       "\n",
       "                        PRI_jet_leading_pt  PRI_jet_leading_eta  \\\n",
       "DER_mass_MMC                      0.250158             0.247083   \n",
       "DER_deltaeta_jet_jet              0.545027             0.521657   \n",
       "DER_mass_jet_jet                  0.521645             0.493233   \n",
       "DER_prodeta_jet_jet               0.545022             0.521653   \n",
       "DER_lep_eta_centrality            0.545035             0.521658   \n",
       "PRI_jet_leading_pt                1.000000             0.996100   \n",
       "PRI_jet_leading_eta               0.996100             1.000000   \n",
       "PRI_jet_leading_phi               0.996100             0.999992   \n",
       "PRI_jet_subleading_pt             0.546079             0.521322   \n",
       "PRI_jet_subleading_eta            0.545033             0.521656   \n",
       "PRI_jet_subleading_phi            0.545033             0.521657   \n",
       "\n",
       "                        PRI_jet_leading_phi  PRI_jet_subleading_pt  \\\n",
       "DER_mass_MMC                       0.247078               0.162836   \n",
       "DER_deltaeta_jet_jet               0.521664               0.999346   \n",
       "DER_mass_jet_jet                   0.493241               0.947652   \n",
       "DER_prodeta_jet_jet                0.521661               0.999347   \n",
       "DER_lep_eta_centrality             0.521665               0.999355   \n",
       "PRI_jet_leading_pt                 0.996100               0.546079   \n",
       "PRI_jet_leading_eta                0.999992               0.521322   \n",
       "PRI_jet_leading_phi                1.000000               0.521329   \n",
       "PRI_jet_subleading_pt              0.521329               1.000000   \n",
       "PRI_jet_subleading_eta             0.521664               0.999352   \n",
       "PRI_jet_subleading_phi             0.521664               0.999352   \n",
       "\n",
       "                        PRI_jet_subleading_eta  PRI_jet_subleading_phi  \n",
       "DER_mass_MMC                          0.162614                0.162609  \n",
       "DER_deltaeta_jet_jet                  0.999995                0.999996  \n",
       "DER_mass_jet_jet                      0.945505                0.945507  \n",
       "DER_prodeta_jet_jet                   0.999988                0.999989  \n",
       "DER_lep_eta_centrality                0.999997                0.999998  \n",
       "PRI_jet_leading_pt                    0.545033                0.545033  \n",
       "PRI_jet_leading_eta                   0.521656                0.521657  \n",
       "PRI_jet_leading_phi                   0.521664                0.521664  \n",
       "PRI_jet_subleading_pt                 0.999352                0.999352  \n",
       "PRI_jet_subleading_eta                1.000000                0.999995  \n",
       "PRI_jet_subleading_phi                0.999995                1.000000  "
      ]
     },
     "execution_count": 405,
     "metadata": {},
     "output_type": "execute_result"
    }
   ],
   "source": [
    "df_corr.corr()"
   ]
  },
  {
   "cell_type": "code",
   "execution_count": 406,
   "metadata": {},
   "outputs": [
    {
     "data": {
      "text/plain": [
       "<matplotlib.axes._subplots.AxesSubplot at 0x7f21bf261ed0>"
      ]
     },
     "execution_count": 406,
     "metadata": {},
     "output_type": "execute_result"
    },
    {
     "data": {
      "image/png": "[encoded data removed]",
      "text/plain": [
       "<Figure size 360x288 with 2 Axes>"
      ]
     },
     "metadata": {
      "needs_background": "light"
     },
     "output_type": "display_data"
    }
   ],
   "source": [
    "import numpy as np\n",
    "import matplotlib.pyplot as plt\n",
    "f, ax = plt.subplots(figsize=(5,4))\n",
    "corr = df_corr.corr()\n",
    "sns.heatmap(corr, mask=np.zeros_like(corr, dtype=np.bool), cmap=sns.diverging_palette(220, 10, as_cmap=True),\n",
    "            square=True, ax=ax)"
   ]
  },
  {
   "cell_type": "code",
   "execution_count": 407,
   "metadata": {},
   "outputs": [],
   "source": [
    "f.savefig('correlation_figure.png',bbox_inches='tight')"
   ]
  },
  {
   "cell_type": "code",
   "execution_count": 408,
   "metadata": {},
   "outputs": [],
   "source": [
    "import numpy as np\n",
    "df.replace(to_replace=-999.000,value=np.nan,inplace=True)\n",
    "\n",
    "\n",
    "df['DER_mass_MMC'].replace(to_replace=np.nan,value=df['DER_mass_MMC'].mean(),inplace=True)\n",
    "\n",
    "# This variable is highly correlated with DER_prodeta_jet_jet and should be ignored for analysis (Correlation = 0.9999)\n",
    "df.drop(['DER_lep_eta_centrality'],inplace=True,axis = 1)\n",
    "\n",
    "# This variable is highly correlated with DER_deltaeta_jet_jet and should be ignored for analysis (Correlation = 0.94604)\n",
    "df.drop(['DER_mass_jet_jet'],inplace=True,axis =1)\n",
    "\n",
    "# This variable is highly correlated with DER_mass_jet_jet and should be ignored for analysis     (Correlation= 0.94444)\n",
    "df.drop(['DER_prodeta_jet_jet'],inplace=True,axis =1)\n",
    "\n",
    "# This variable is highly correlated with PRI_jet_leading_pt and should be ignored for analysis   (Correlation = 0.9961)\n",
    "df.drop(['PRI_jet_leading_eta'],inplace=True,axis =1)\n",
    "\n",
    "# This variable is highly correlated with PRI_jet_leading_eta and should be ignored for analysis   (Correlation = 0.9999)\n",
    "df.drop(['PRI_jet_leading_phi'],inplace=True,axis =1)\n",
    "\n",
    "df['PRI_jet_leading_pt'].replace(to_replace=np.nan,value=df['PRI_jet_leading_pt'].mean(),inplace=True)\n",
    "\n",
    "# This variable is highly correlated with PRI_jet_subleading_pt and should be ignored for analysis (Correlation = 0.99935)\n",
    "df.drop(['PRI_jet_subleading_eta'],inplace=True,axis =1)\n",
    "\n",
    "# This variable is highly correlated with PRI_jet_subleading_eta and should be ignored for analysis (Correlation = 0.99999)\n",
    "df.drop(['PRI_jet_subleading_phi'],inplace=True,axis =1)\n",
    "\n",
    "df['PRI_jet_subleading_pt'].replace(to_replace=np.nan,value=df['PRI_jet_subleading_pt'].mean(),inplace=True)\n",
    "\n",
    "# This variable is highly correlated with PRI_jet_subleading_eta and should be ignored for analysis (Correlation = 0.94604)\n",
    "df.drop(['DER_deltaeta_jet_jet'],inplace=True,axis =1)"
   ]
  },
  {
   "cell_type": "code",
   "execution_count": 409,
   "metadata": {},
   "outputs": [
    {
     "data": {
      "text/plain": [
       "(250000, 25)"
      ]
     },
     "execution_count": 409,
     "metadata": {},
     "output_type": "execute_result"
    }
   ],
   "source": [
    "df.shape"
   ]
  },
  {
   "cell_type": "code",
   "execution_count": 410,
   "metadata": {},
   "outputs": [
    {
     "data": {
      "text/html": [
       "<div>\n",
       "<style scoped>\n",
       "    .dataframe tbody tr th:only-of-type {\n",
       "        vertical-align: middle;\n",
       "    }\n",
       "\n",
       "    .dataframe tbody tr th {\n",
       "        vertical-align: top;\n",
       "    }\n",
       "\n",
       "    .dataframe thead th {\n",
       "        text-align: right;\n",
       "    }\n",
       "</style>\n",
       "<table border=\"1\" class=\"dataframe\">\n",
       "  <thead>\n",
       "    <tr style=\"text-align: right;\">\n",
       "      <th></th>\n",
       "      <th>EventId</th>\n",
       "      <th>DER_mass_MMC</th>\n",
       "      <th>DER_mass_transverse_met_lep</th>\n",
       "      <th>DER_mass_vis</th>\n",
       "      <th>DER_pt_h</th>\n",
       "      <th>DER_deltar_tau_lep</th>\n",
       "      <th>DER_pt_tot</th>\n",
       "      <th>DER_sum_pt</th>\n",
       "      <th>DER_pt_ratio_lep_tau</th>\n",
       "      <th>DER_met_phi_centrality</th>\n",
       "      <th>...</th>\n",
       "      <th>PRI_lep_phi</th>\n",
       "      <th>PRI_met</th>\n",
       "      <th>PRI_met_phi</th>\n",
       "      <th>PRI_met_sumet</th>\n",
       "      <th>PRI_jet_num</th>\n",
       "      <th>PRI_jet_leading_pt</th>\n",
       "      <th>PRI_jet_subleading_pt</th>\n",
       "      <th>PRI_jet_all_pt</th>\n",
       "      <th>Weight</th>\n",
       "      <th>Label</th>\n",
       "    </tr>\n",
       "  </thead>\n",
       "  <tbody>\n",
       "    <tr>\n",
       "      <th>0</th>\n",
       "      <td>100000</td>\n",
       "      <td>138.470000</td>\n",
       "      <td>51.655</td>\n",
       "      <td>97.827</td>\n",
       "      <td>27.980</td>\n",
       "      <td>3.064</td>\n",
       "      <td>41.928</td>\n",
       "      <td>197.760</td>\n",
       "      <td>1.582</td>\n",
       "      <td>1.396</td>\n",
       "      <td>...</td>\n",
       "      <td>-2.414</td>\n",
       "      <td>16.824</td>\n",
       "      <td>-0.277</td>\n",
       "      <td>258.733</td>\n",
       "      <td>2</td>\n",
       "      <td>67.435000</td>\n",
       "      <td>46.062000</td>\n",
       "      <td>113.497</td>\n",
       "      <td>0.002653</td>\n",
       "      <td>s</td>\n",
       "    </tr>\n",
       "    <tr>\n",
       "      <th>1</th>\n",
       "      <td>100001</td>\n",
       "      <td>160.937000</td>\n",
       "      <td>68.768</td>\n",
       "      <td>103.235</td>\n",
       "      <td>48.146</td>\n",
       "      <td>3.473</td>\n",
       "      <td>2.078</td>\n",
       "      <td>125.157</td>\n",
       "      <td>0.879</td>\n",
       "      <td>1.414</td>\n",
       "      <td>...</td>\n",
       "      <td>0.103</td>\n",
       "      <td>44.704</td>\n",
       "      <td>-1.916</td>\n",
       "      <td>164.546</td>\n",
       "      <td>1</td>\n",
       "      <td>46.226000</td>\n",
       "      <td>57.679474</td>\n",
       "      <td>46.226</td>\n",
       "      <td>2.233584</td>\n",
       "      <td>b</td>\n",
       "    </tr>\n",
       "    <tr>\n",
       "      <th>2</th>\n",
       "      <td>100002</td>\n",
       "      <td>121.858528</td>\n",
       "      <td>162.172</td>\n",
       "      <td>125.953</td>\n",
       "      <td>35.635</td>\n",
       "      <td>3.148</td>\n",
       "      <td>9.336</td>\n",
       "      <td>197.814</td>\n",
       "      <td>3.776</td>\n",
       "      <td>1.414</td>\n",
       "      <td>...</td>\n",
       "      <td>1.052</td>\n",
       "      <td>54.283</td>\n",
       "      <td>-2.186</td>\n",
       "      <td>260.414</td>\n",
       "      <td>1</td>\n",
       "      <td>44.251000</td>\n",
       "      <td>57.679474</td>\n",
       "      <td>44.251</td>\n",
       "      <td>2.347389</td>\n",
       "      <td>b</td>\n",
       "    </tr>\n",
       "    <tr>\n",
       "      <th>3</th>\n",
       "      <td>100003</td>\n",
       "      <td>143.905000</td>\n",
       "      <td>81.417</td>\n",
       "      <td>80.943</td>\n",
       "      <td>0.414</td>\n",
       "      <td>3.310</td>\n",
       "      <td>0.414</td>\n",
       "      <td>75.968</td>\n",
       "      <td>2.354</td>\n",
       "      <td>-1.285</td>\n",
       "      <td>...</td>\n",
       "      <td>-3.100</td>\n",
       "      <td>31.082</td>\n",
       "      <td>0.060</td>\n",
       "      <td>86.062</td>\n",
       "      <td>0</td>\n",
       "      <td>84.822105</td>\n",
       "      <td>57.679474</td>\n",
       "      <td>-0.000</td>\n",
       "      <td>5.446378</td>\n",
       "      <td>b</td>\n",
       "    </tr>\n",
       "    <tr>\n",
       "      <th>4</th>\n",
       "      <td>100004</td>\n",
       "      <td>175.864000</td>\n",
       "      <td>16.915</td>\n",
       "      <td>134.805</td>\n",
       "      <td>16.405</td>\n",
       "      <td>3.891</td>\n",
       "      <td>16.405</td>\n",
       "      <td>57.983</td>\n",
       "      <td>1.056</td>\n",
       "      <td>-1.385</td>\n",
       "      <td>...</td>\n",
       "      <td>1.569</td>\n",
       "      <td>2.723</td>\n",
       "      <td>-0.871</td>\n",
       "      <td>53.131</td>\n",
       "      <td>0</td>\n",
       "      <td>84.822105</td>\n",
       "      <td>57.679474</td>\n",
       "      <td>0.000</td>\n",
       "      <td>6.245333</td>\n",
       "      <td>b</td>\n",
       "    </tr>\n",
       "  </tbody>\n",
       "</table>\n",
       "<p>5 rows × 25 columns</p>\n",
       "</div>"
      ],
      "text/plain": [
       "   EventId  DER_mass_MMC  DER_mass_transverse_met_lep  DER_mass_vis  DER_pt_h  \\\n",
       "0   100000    138.470000                       51.655        97.827    27.980   \n",
       "1   100001    160.937000                       68.768       103.235    48.146   \n",
       "2   100002    121.858528                      162.172       125.953    35.635   \n",
       "3   100003    143.905000                       81.417        80.943     0.414   \n",
       "4   100004    175.864000                       16.915       134.805    16.405   \n",
       "\n",
       "   DER_deltar_tau_lep  DER_pt_tot  DER_sum_pt  DER_pt_ratio_lep_tau  \\\n",
       "0               3.064      41.928     197.760                 1.582   \n",
       "1               3.473       2.078     125.157                 0.879   \n",
       "2               3.148       9.336     197.814                 3.776   \n",
       "3               3.310       0.414      75.968                 2.354   \n",
       "4               3.891      16.405      57.983                 1.056   \n",
       "\n",
       "   DER_met_phi_centrality  ...  PRI_lep_phi  PRI_met  PRI_met_phi  \\\n",
       "0                   1.396  ...       -2.414   16.824       -0.277   \n",
       "1                   1.414  ...        0.103   44.704       -1.916   \n",
       "2                   1.414  ...        1.052   54.283       -2.186   \n",
       "3                  -1.285  ...       -3.100   31.082        0.060   \n",
       "4                  -1.385  ...        1.569    2.723       -0.871   \n",
       "\n",
       "   PRI_met_sumet  PRI_jet_num  PRI_jet_leading_pt  PRI_jet_subleading_pt  \\\n",
       "0        258.733            2           67.435000              46.062000   \n",
       "1        164.546            1           46.226000              57.679474   \n",
       "2        260.414            1           44.251000              57.679474   \n",
       "3         86.062            0           84.822105              57.679474   \n",
       "4         53.131            0           84.822105              57.679474   \n",
       "\n",
       "   PRI_jet_all_pt    Weight  Label  \n",
       "0         113.497  0.002653      s  \n",
       "1          46.226  2.233584      b  \n",
       "2          44.251  2.347389      b  \n",
       "3          -0.000  5.446378      b  \n",
       "4           0.000  6.245333      b  \n",
       "\n",
       "[5 rows x 25 columns]"
      ]
     },
     "execution_count": 410,
     "metadata": {},
     "output_type": "execute_result"
    }
   ],
   "source": [
    "df.head()"
   ]
  },
  {
   "cell_type": "code",
   "execution_count": 411,
   "metadata": {},
   "outputs": [],
   "source": [
    "import sklearn.utils\n",
    "df = sklearn.utils.shuffle(df)"
   ]
  },
  {
   "cell_type": "code",
   "execution_count": 412,
   "metadata": {},
   "outputs": [],
   "source": [
    "X = df.iloc[:,1:24].astype(float)\n",
    "Y = df.iloc[:,24:]"
   ]
  },
  {
   "cell_type": "code",
   "execution_count": 413,
   "metadata": {},
   "outputs": [
    {
     "name": "stdout",
     "output_type": "stream",
     "text": [
      "(250000, 23)\n",
      "(250000, 1)\n"
     ]
    }
   ],
   "source": [
    "print(X.shape)\n",
    "print(Y.shape)"
   ]
  },
  {
   "cell_type": "code",
   "execution_count": 414,
   "metadata": {},
   "outputs": [
    {
     "data": {
      "text/html": [
       "<div>\n",
       "<style scoped>\n",
       "    .dataframe tbody tr th:only-of-type {\n",
       "        vertical-align: middle;\n",
       "    }\n",
       "\n",
       "    .dataframe tbody tr th {\n",
       "        vertical-align: top;\n",
       "    }\n",
       "\n",
       "    .dataframe thead th {\n",
       "        text-align: right;\n",
       "    }\n",
       "</style>\n",
       "<table border=\"1\" class=\"dataframe\">\n",
       "  <thead>\n",
       "    <tr style=\"text-align: right;\">\n",
       "      <th></th>\n",
       "      <th>DER_mass_MMC</th>\n",
       "      <th>DER_mass_transverse_met_lep</th>\n",
       "      <th>DER_mass_vis</th>\n",
       "      <th>DER_pt_h</th>\n",
       "      <th>DER_deltar_tau_lep</th>\n",
       "      <th>DER_pt_tot</th>\n",
       "      <th>DER_sum_pt</th>\n",
       "      <th>DER_pt_ratio_lep_tau</th>\n",
       "      <th>DER_met_phi_centrality</th>\n",
       "      <th>PRI_tau_pt</th>\n",
       "      <th>...</th>\n",
       "      <th>PRI_lep_eta</th>\n",
       "      <th>PRI_lep_phi</th>\n",
       "      <th>PRI_met</th>\n",
       "      <th>PRI_met_phi</th>\n",
       "      <th>PRI_met_sumet</th>\n",
       "      <th>PRI_jet_num</th>\n",
       "      <th>PRI_jet_leading_pt</th>\n",
       "      <th>PRI_jet_subleading_pt</th>\n",
       "      <th>PRI_jet_all_pt</th>\n",
       "      <th>Weight</th>\n",
       "    </tr>\n",
       "  </thead>\n",
       "  <tbody>\n",
       "    <tr>\n",
       "      <th>204552</th>\n",
       "      <td>121.858528</td>\n",
       "      <td>79.439</td>\n",
       "      <td>58.222</td>\n",
       "      <td>32.196</td>\n",
       "      <td>2.062</td>\n",
       "      <td>2.747</td>\n",
       "      <td>97.749</td>\n",
       "      <td>0.776</td>\n",
       "      <td>-1.398</td>\n",
       "      <td>35.431</td>\n",
       "      <td>...</td>\n",
       "      <td>1.752</td>\n",
       "      <td>-0.898</td>\n",
       "      <td>65.523</td>\n",
       "      <td>1.523</td>\n",
       "      <td>162.271</td>\n",
       "      <td>1.0</td>\n",
       "      <td>34.822000</td>\n",
       "      <td>57.679474</td>\n",
       "      <td>34.822</td>\n",
       "      <td>1.972153</td>\n",
       "    </tr>\n",
       "    <tr>\n",
       "      <th>200529</th>\n",
       "      <td>121.858528</td>\n",
       "      <td>76.357</td>\n",
       "      <td>62.869</td>\n",
       "      <td>0.813</td>\n",
       "      <td>2.178</td>\n",
       "      <td>0.813</td>\n",
       "      <td>68.454</td>\n",
       "      <td>1.630</td>\n",
       "      <td>-1.375</td>\n",
       "      <td>26.031</td>\n",
       "      <td>...</td>\n",
       "      <td>-0.686</td>\n",
       "      <td>-1.125</td>\n",
       "      <td>38.210</td>\n",
       "      <td>1.371</td>\n",
       "      <td>85.996</td>\n",
       "      <td>0.0</td>\n",
       "      <td>84.822105</td>\n",
       "      <td>57.679474</td>\n",
       "      <td>0.000</td>\n",
       "      <td>4.891619</td>\n",
       "    </tr>\n",
       "    <tr>\n",
       "      <th>26540</th>\n",
       "      <td>177.139000</td>\n",
       "      <td>88.953</td>\n",
       "      <td>125.890</td>\n",
       "      <td>6.912</td>\n",
       "      <td>2.994</td>\n",
       "      <td>6.912</td>\n",
       "      <td>114.060</td>\n",
       "      <td>1.710</td>\n",
       "      <td>-1.374</td>\n",
       "      <td>42.082</td>\n",
       "      <td>...</td>\n",
       "      <td>0.765</td>\n",
       "      <td>-2.374</td>\n",
       "      <td>29.007</td>\n",
       "      <td>1.230</td>\n",
       "      <td>191.342</td>\n",
       "      <td>0.0</td>\n",
       "      <td>84.822105</td>\n",
       "      <td>57.679474</td>\n",
       "      <td>-0.000</td>\n",
       "      <td>5.158616</td>\n",
       "    </tr>\n",
       "  </tbody>\n",
       "</table>\n",
       "<p>3 rows × 23 columns</p>\n",
       "</div>"
      ],
      "text/plain": [
       "        DER_mass_MMC  DER_mass_transverse_met_lep  DER_mass_vis  DER_pt_h  \\\n",
       "204552    121.858528                       79.439        58.222    32.196   \n",
       "200529    121.858528                       76.357        62.869     0.813   \n",
       "26540     177.139000                       88.953       125.890     6.912   \n",
       "\n",
       "        DER_deltar_tau_lep  DER_pt_tot  DER_sum_pt  DER_pt_ratio_lep_tau  \\\n",
       "204552               2.062       2.747      97.749                 0.776   \n",
       "200529               2.178       0.813      68.454                 1.630   \n",
       "26540                2.994       6.912     114.060                 1.710   \n",
       "\n",
       "        DER_met_phi_centrality  PRI_tau_pt  ...  PRI_lep_eta  PRI_lep_phi  \\\n",
       "204552                  -1.398      35.431  ...        1.752       -0.898   \n",
       "200529                  -1.375      26.031  ...       -0.686       -1.125   \n",
       "26540                   -1.374      42.082  ...        0.765       -2.374   \n",
       "\n",
       "        PRI_met  PRI_met_phi  PRI_met_sumet  PRI_jet_num  PRI_jet_leading_pt  \\\n",
       "204552   65.523        1.523        162.271          1.0           34.822000   \n",
       "200529   38.210        1.371         85.996          0.0           84.822105   \n",
       "26540    29.007        1.230        191.342          0.0           84.822105   \n",
       "\n",
       "        PRI_jet_subleading_pt  PRI_jet_all_pt    Weight  \n",
       "204552              57.679474          34.822  1.972153  \n",
       "200529              57.679474           0.000  4.891619  \n",
       "26540               57.679474          -0.000  5.158616  \n",
       "\n",
       "[3 rows x 23 columns]"
      ]
     },
     "execution_count": 414,
     "metadata": {},
     "output_type": "execute_result"
    }
   ],
   "source": [
    "X.head(3)"
   ]
  },
  {
   "cell_type": "code",
   "execution_count": 415,
   "metadata": {},
   "outputs": [
    {
     "data": {
      "text/html": [
       "<div>\n",
       "<style scoped>\n",
       "    .dataframe tbody tr th:only-of-type {\n",
       "        vertical-align: middle;\n",
       "    }\n",
       "\n",
       "    .dataframe tbody tr th {\n",
       "        vertical-align: top;\n",
       "    }\n",
       "\n",
       "    .dataframe thead th {\n",
       "        text-align: right;\n",
       "    }\n",
       "</style>\n",
       "<table border=\"1\" class=\"dataframe\">\n",
       "  <thead>\n",
       "    <tr style=\"text-align: right;\">\n",
       "      <th></th>\n",
       "      <th>Label</th>\n",
       "    </tr>\n",
       "  </thead>\n",
       "  <tbody>\n",
       "    <tr>\n",
       "      <th>204552</th>\n",
       "      <td>b</td>\n",
       "    </tr>\n",
       "    <tr>\n",
       "      <th>200529</th>\n",
       "      <td>b</td>\n",
       "    </tr>\n",
       "    <tr>\n",
       "      <th>26540</th>\n",
       "      <td>b</td>\n",
       "    </tr>\n",
       "    <tr>\n",
       "      <th>202365</th>\n",
       "      <td>b</td>\n",
       "    </tr>\n",
       "    <tr>\n",
       "      <th>78119</th>\n",
       "      <td>s</td>\n",
       "    </tr>\n",
       "  </tbody>\n",
       "</table>\n",
       "</div>"
      ],
      "text/plain": [
       "       Label\n",
       "204552     b\n",
       "200529     b\n",
       "26540      b\n",
       "202365     b\n",
       "78119      s"
      ]
     },
     "execution_count": 415,
     "metadata": {},
     "output_type": "execute_result"
    }
   ],
   "source": [
    "Y.head(5)"
   ]
  },
  {
   "cell_type": "code",
   "execution_count": 416,
   "metadata": {},
   "outputs": [],
   "source": [
    "Y.replace([\"s\",\"b\"], [1,0], inplace=True)"
   ]
  },
  {
   "cell_type": "code",
   "execution_count": 417,
   "metadata": {},
   "outputs": [],
   "source": [
    "# normalizing"
   ]
  },
  {
   "cell_type": "code",
   "execution_count": 418,
   "metadata": {},
   "outputs": [],
   "source": [
    "import pandas as pd\n",
    "import time"
   ]
  },
  {
   "cell_type": "code",
   "execution_count": 419,
   "metadata": {},
   "outputs": [],
   "source": [
    "from sklearn.preprocessing import MinMaxScaler\n",
    "sc = MinMaxScaler()\n",
    "X = sc.fit_transform(X)"
   ]
  },
  {
   "cell_type": "code",
   "execution_count": 420,
   "metadata": {},
   "outputs": [],
   "source": [
    "from sklearn.model_selection import train_test_split\n",
    "X_train,X_test,Y_train,Y_test = train_test_split(X,Y,test_size = 0.04)"
   ]
  },
  {
   "cell_type": "code",
   "execution_count": 421,
   "metadata": {},
   "outputs": [],
   "source": [
    "from sklearn.metrics import accuracy_score"
   ]
  },
  {
   "cell_type": "code",
   "execution_count": null,
   "metadata": {},
   "outputs": [],
   "source": [
    "# Gaussian Naive Bayes"
   ]
  },
  {
   "cell_type": "code",
   "execution_count": null,
   "metadata": {},
   "outputs": [],
   "source": [
    "from sklearn.naive_bayes import GaussianNB "
   ]
  },
  {
   "cell_type": "code",
   "execution_count": 163,
   "metadata": {},
   "outputs": [],
   "source": [
    "model1 = GaussianNB()"
   ]
  },
  {
   "cell_type": "code",
   "execution_count": 164,
   "metadata": {},
   "outputs": [],
   "source": [
    "start = time.time()\n",
    "model1.fit(X_train,Y_train)\n",
    "end = time.time()"
   ]
  },
  {
   "cell_type": "code",
   "execution_count": 165,
   "metadata": {},
   "outputs": [
    {
     "name": "stdout",
     "output_type": "stream",
     "text": [
      "Training time\n",
      "0.1324031353\n"
     ]
    }
   ],
   "source": [
    "print('Training time')\n",
    "print((end-start))"
   ]
  },
  {
   "cell_type": "code",
   "execution_count": 167,
   "metadata": {},
   "outputs": [],
   "source": [
    "start = time.time()\n",
    "Y_test_pred1 = model1.predict(X_test)\n",
    "end = time.time()"
   ]
  },
  {
   "cell_type": "code",
   "execution_count": 168,
   "metadata": {},
   "outputs": [
    {
     "name": "stdout",
     "output_type": "stream",
     "text": [
      "Testing time\n",
      "0.00693488121033\n"
     ]
    }
   ],
   "source": [
    "print('Testing time')\n",
    "print((end-start))"
   ]
  },
  {
   "cell_type": "code",
   "execution_count": 169,
   "metadata": {},
   "outputs": [
    {
     "data": {
      "text/plain": [
       "0.9926"
      ]
     },
     "execution_count": 169,
     "metadata": {},
     "output_type": "execute_result"
    }
   ],
   "source": [
    "accuracy_score(Y_test,Y_test_pred1)"
   ]
  },
  {
   "cell_type": "code",
   "execution_count": 170,
   "metadata": {},
   "outputs": [],
   "source": [
    "Y_train_pred1 = model1.predict(X_train)"
   ]
  },
  {
   "cell_type": "code",
   "execution_count": 171,
   "metadata": {},
   "outputs": [
    {
     "data": {
      "text/plain": [
       "0.99285"
      ]
     },
     "execution_count": 171,
     "metadata": {},
     "output_type": "execute_result"
    }
   ],
   "source": [
    "accuracy_score(Y_train,Y_train_pred1)"
   ]
  },
  {
   "cell_type": "code",
   "execution_count": 204,
   "metadata": {},
   "outputs": [],
   "source": [
    "# K Nearest Neighbour"
   ]
  },
  {
   "cell_type": "code",
   "execution_count": 244,
   "metadata": {},
   "outputs": [],
   "source": [
    "from sklearn.neighbors import KNeighborsClassifier"
   ]
  },
  {
   "cell_type": "code",
   "execution_count": 253,
   "metadata": {},
   "outputs": [],
   "source": [
    "model2 = KNeighborsClassifier(n_neighbors=9)"
   ]
  },
  {
   "cell_type": "code",
   "execution_count": 254,
   "metadata": {},
   "outputs": [
    {
     "name": "stderr",
     "output_type": "stream",
     "text": [
      "/usr/local/lib/python2.7/dist-packages/ipykernel_launcher.py:2: DataConversionWarning: A column-vector y was passed when a 1d array was expected. Please change the shape of y to (n_samples, ), for example using ravel().\n",
      "  \n"
     ]
    }
   ],
   "source": [
    "start = time.time()\n",
    "model2.fit(X_train,Y_train)\n",
    "end = time.time()"
   ]
  },
  {
   "cell_type": "code",
   "execution_count": 289,
   "metadata": {},
   "outputs": [
    {
     "name": "stdout",
     "output_type": "stream",
     "text": [
      "Training time\n",
      "1009.39393806\n"
     ]
    }
   ],
   "source": [
    "print('Training time')\n",
    "print((end-start))"
   ]
  },
  {
   "cell_type": "code",
   "execution_count": 290,
   "metadata": {},
   "outputs": [],
   "source": [
    "start = time.time()\n",
    "Y_test_pred2 = model2.predict(X_test)\n",
    "end = time.time()"
   ]
  },
  {
   "cell_type": "code",
   "execution_count": 291,
   "metadata": {},
   "outputs": [
    {
     "name": "stdout",
     "output_type": "stream",
     "text": [
      "Testing time\n",
      "7.73135709763\n"
     ]
    }
   ],
   "source": [
    "print('Testing time')\n",
    "print((end-start))"
   ]
  },
  {
   "cell_type": "code",
   "execution_count": 292,
   "metadata": {},
   "outputs": [
    {
     "data": {
      "text/plain": [
       "0.9175"
      ]
     },
     "execution_count": 292,
     "metadata": {},
     "output_type": "execute_result"
    }
   ],
   "source": [
    "accuracy_score(Y_test,Y_test_pred2)"
   ]
  },
  {
   "cell_type": "code",
   "execution_count": 293,
   "metadata": {},
   "outputs": [],
   "source": [
    "Y_train_pred2 = model2.predict(X_train)"
   ]
  },
  {
   "cell_type": "code",
   "execution_count": 294,
   "metadata": {},
   "outputs": [
    {
     "data": {
      "text/plain": [
       "0.9233958333333333"
      ]
     },
     "execution_count": 294,
     "metadata": {},
     "output_type": "execute_result"
    }
   ],
   "source": [
    "accuracy_score(Y_train,Y_train_pred2)"
   ]
  },
  {
   "cell_type": "code",
   "execution_count": 295,
   "metadata": {},
   "outputs": [],
   "source": [
    "# SVM"
   ]
  },
  {
   "cell_type": "code",
   "execution_count": 299,
   "metadata": {},
   "outputs": [],
   "source": [
    "from sklearn.svm import SVC"
   ]
  },
  {
   "cell_type": "code",
   "execution_count": 300,
   "metadata": {},
   "outputs": [],
   "source": [
    "model3 = SVC(gamma = 'scale')"
   ]
  },
  {
   "cell_type": "code",
   "execution_count": 301,
   "metadata": {},
   "outputs": [],
   "source": [
    "start = time.time()\n",
    "model3.fit(X_train,Y_train)\n",
    "end = time.time()"
   ]
  },
  {
   "cell_type": "code",
   "execution_count": 302,
   "metadata": {},
   "outputs": [
    {
     "name": "stdout",
     "output_type": "stream",
     "text": [
      "Training time\n",
      "1008.15687013\n"
     ]
    }
   ],
   "source": [
    "print('Training time')\n",
    "print((end-start))"
   ]
  },
  {
   "cell_type": "code",
   "execution_count": 303,
   "metadata": {},
   "outputs": [],
   "source": [
    "start = time.time()\n",
    "Y_test_pred3 = model3.predict(X_test)\n",
    "end = time.time()"
   ]
  },
  {
   "cell_type": "code",
   "execution_count": 304,
   "metadata": {},
   "outputs": [
    {
     "name": "stdout",
     "output_type": "stream",
     "text": [
      "Testing time\n",
      "9.71839785576\n"
     ]
    }
   ],
   "source": [
    "print('Testing time')\n",
    "print((end-start))"
   ]
  },
  {
   "cell_type": "code",
   "execution_count": 305,
   "metadata": {},
   "outputs": [
    {
     "data": {
      "text/plain": [
       "0.9677"
      ]
     },
     "execution_count": 305,
     "metadata": {},
     "output_type": "execute_result"
    }
   ],
   "source": [
    "accuracy_score(Y_test,Y_test_pred3)"
   ]
  },
  {
   "cell_type": "code",
   "execution_count": 306,
   "metadata": {},
   "outputs": [],
   "source": [
    "Y_train_pred3 = model3.predict(X_train)"
   ]
  },
  {
   "cell_type": "code",
   "execution_count": null,
   "metadata": {},
   "outputs": [],
   "source": [
    "accuracy_score(Y_train,Y_train_pred3)"
   ]
  },
  {
   "cell_type": "code",
   "execution_count": 330,
   "metadata": {},
   "outputs": [],
   "source": [
    "# Logistic regression"
   ]
  },
  {
   "cell_type": "code",
   "execution_count": 331,
   "metadata": {},
   "outputs": [],
   "source": [
    "from sklearn.linear_model import LogisticRegression"
   ]
  },
  {
   "cell_type": "code",
   "execution_count": 343,
   "metadata": {},
   "outputs": [],
   "source": [
    "model4 = LogisticRegression(C=200.0)"
   ]
  },
  {
   "cell_type": "code",
   "execution_count": 344,
   "metadata": {},
   "outputs": [],
   "source": [
    "start = time.time()\n",
    "model4.fit(X_train,Y_train)\n",
    "end = time.time()"
   ]
  },
  {
   "cell_type": "code",
   "execution_count": 345,
   "metadata": {},
   "outputs": [
    {
     "name": "stdout",
     "output_type": "stream",
     "text": [
      "Training time\n",
      "7.99853682518\n"
     ]
    }
   ],
   "source": [
    "print('Training time')\n",
    "print((end-start))"
   ]
  },
  {
   "cell_type": "code",
   "execution_count": 346,
   "metadata": {},
   "outputs": [],
   "source": [
    "start = time.time()\n",
    "Y_test_pred4 = model4.predict(X_test)\n",
    "end = time.time()"
   ]
  },
  {
   "cell_type": "code",
   "execution_count": 347,
   "metadata": {},
   "outputs": [
    {
     "name": "stdout",
     "output_type": "stream",
     "text": [
      "Testing time\n",
      "0.00970005989075\n"
     ]
    }
   ],
   "source": [
    "print('Testing time')\n",
    "print((end-start))"
   ]
  },
  {
   "cell_type": "code",
   "execution_count": 348,
   "metadata": {},
   "outputs": [
    {
     "data": {
      "text/plain": [
       "1.0"
      ]
     },
     "execution_count": 348,
     "metadata": {},
     "output_type": "execute_result"
    }
   ],
   "source": [
    "accuracy_score(Y_test,Y_test_pred4)"
   ]
  },
  {
   "cell_type": "code",
   "execution_count": 349,
   "metadata": {},
   "outputs": [],
   "source": [
    "Y_train_pred4 = model4.predict(X_train)"
   ]
  },
  {
   "cell_type": "code",
   "execution_count": 350,
   "metadata": {},
   "outputs": [
    {
     "data": {
      "text/plain": [
       "0.9999875"
      ]
     },
     "execution_count": 350,
     "metadata": {},
     "output_type": "execute_result"
    }
   ],
   "source": [
    "accuracy_score(Y_train,Y_train_pred4)"
   ]
  },
  {
   "cell_type": "code",
   "execution_count": 351,
   "metadata": {},
   "outputs": [],
   "source": [
    "# Decision tree"
   ]
  },
  {
   "cell_type": "code",
   "execution_count": 352,
   "metadata": {},
   "outputs": [],
   "source": [
    "from sklearn.tree import DecisionTreeClassifier"
   ]
  },
  {
   "cell_type": "code",
   "execution_count": 353,
   "metadata": {},
   "outputs": [],
   "source": [
    "model5 = DecisionTreeClassifier(criterion='gini')"
   ]
  },
  {
   "cell_type": "code",
   "execution_count": 354,
   "metadata": {},
   "outputs": [],
   "source": [
    "start = time.time()\n",
    "model5.fit(X_train,Y_train)\n",
    "end = time.time()"
   ]
  },
  {
   "cell_type": "code",
   "execution_count": 355,
   "metadata": {},
   "outputs": [
    {
     "name": "stdout",
     "output_type": "stream",
     "text": [
      "Training time\n",
      "0.576670885086\n"
     ]
    }
   ],
   "source": [
    "print('Training time')\n",
    "print((end-start))"
   ]
  },
  {
   "cell_type": "code",
   "execution_count": 357,
   "metadata": {},
   "outputs": [],
   "source": [
    "start = time.time()\n",
    "Y_test_pred5 = model5.predict(X_test)\n",
    "end = time.time()"
   ]
  },
  {
   "cell_type": "code",
   "execution_count": 358,
   "metadata": {},
   "outputs": [
    {
     "name": "stdout",
     "output_type": "stream",
     "text": [
      "Testing time\n",
      "0.0018150806427\n"
     ]
    }
   ],
   "source": [
    "print('Testing time')\n",
    "print((end-start))"
   ]
  },
  {
   "cell_type": "code",
   "execution_count": 359,
   "metadata": {},
   "outputs": [
    {
     "data": {
      "text/plain": [
       "1.0"
      ]
     },
     "execution_count": 359,
     "metadata": {},
     "output_type": "execute_result"
    }
   ],
   "source": [
    "accuracy_score(Y_test,Y_test_pred5)"
   ]
  },
  {
   "cell_type": "code",
   "execution_count": 360,
   "metadata": {},
   "outputs": [],
   "source": [
    "Y_train_pred5 = model5.predict(X_train)"
   ]
  },
  {
   "cell_type": "code",
   "execution_count": 361,
   "metadata": {},
   "outputs": [
    {
     "data": {
      "text/plain": [
       "1.0"
      ]
     },
     "execution_count": 361,
     "metadata": {},
     "output_type": "execute_result"
    }
   ],
   "source": [
    "accuracy_score(Y_train,Y_train_pred5)"
   ]
  },
  {
   "cell_type": "code",
   "execution_count": 366,
   "metadata": {},
   "outputs": [],
   "source": [
    "# neural network      23->relu->1->sigmoid "
   ]
  },
  {
   "cell_type": "code",
   "execution_count": 422,
   "metadata": {},
   "outputs": [],
   "source": [
    "from keras.models import Sequential\n",
    "from keras.layers import Dense\n",
    "from keras import optimizers\n",
    "from keras.wrappers.scikit_learn import KerasClassifier"
   ]
  },
  {
   "cell_type": "code",
   "execution_count": 423,
   "metadata": {},
   "outputs": [],
   "source": [
    "def fun():\n",
    "    model = Sequential()\n",
    "    model.add(Dense(23,input_dim =23,activation = 'relu',kernel_initializer='random_uniform'))\n",
    "    model.add(Dense(1,activation='sigmoid',kernel_initializer='random_uniform'))\n",
    "    sgd = optimizers.sgd(lr=0.02, momentum=0.0, decay=1e-6, nesterov=False)\n",
    "    model.compile(loss ='binary_crossentropy',optimizer = 'sgd',metrics = ['accuracy'])\n",
    "    return model"
   ]
  },
  {
   "cell_type": "code",
   "execution_count": 424,
   "metadata": {},
   "outputs": [],
   "source": [
    "model6 = KerasClassifier(build_fn=fun,epochs=100,batch_size=32)"
   ]
  },
  {
   "cell_type": "code",
   "execution_count": 425,
   "metadata": {},
   "outputs": [
    {
     "name": "stdout",
     "output_type": "stream",
     "text": [
      "Epoch 1/100\n",
      "240000/240000 [==============================] - 36s 151us/step - loss: 0.4940 - acc: 0.7591\n",
      "Epoch 2/100\n",
      "240000/240000 [==============================] - 36s 149us/step - loss: 0.2091 - acc: 0.9326\n",
      "Epoch 3/100\n",
      "240000/240000 [==============================] - 37s 155us/step - loss: 0.1635 - acc: 0.9405\n",
      "Epoch 4/100\n",
      "240000/240000 [==============================] - 36s 148us/step - loss: 0.1469 - acc: 0.9467\n",
      "Epoch 5/100\n",
      "240000/240000 [==============================] - 37s 152us/step - loss: 0.1359 - acc: 0.9508\n",
      "Epoch 6/100\n",
      "240000/240000 [==============================] - 36s 151us/step - loss: 0.1276 - acc: 0.9538\n",
      "Epoch 7/100\n",
      "240000/240000 [==============================] - 36s 151us/step - loss: 0.1207 - acc: 0.9564\n",
      "Epoch 8/100\n",
      "240000/240000 [==============================] - 35s 147us/step - loss: 0.1149 - acc: 0.9585\n",
      "Epoch 9/100\n",
      "240000/240000 [==============================] - 35s 148us/step - loss: 0.1098 - acc: 0.9603\n",
      "Epoch 10/100\n",
      "240000/240000 [==============================] - 36s 148us/step - loss: 0.1054 - acc: 0.9617\n",
      "Epoch 11/100\n",
      "240000/240000 [==============================] - 36s 150us/step - loss: 0.1014 - acc: 0.9631\n",
      "Epoch 12/100\n",
      "240000/240000 [==============================] - 37s 152us/step - loss: 0.0979 - acc: 0.9645\n",
      "Epoch 13/100\n",
      "240000/240000 [==============================] - 36s 150us/step - loss: 0.0947 - acc: 0.9655\n",
      "Epoch 14/100\n",
      "240000/240000 [==============================] - 36s 150us/step - loss: 0.0917 - acc: 0.9668\n",
      "Epoch 15/100\n",
      "240000/240000 [==============================] - 36s 150us/step - loss: 0.0889 - acc: 0.9680\n",
      "Epoch 16/100\n",
      "240000/240000 [==============================] - 36s 150us/step - loss: 0.0863 - acc: 0.9688\n",
      "Epoch 17/100\n",
      "240000/240000 [==============================] - 36s 150us/step - loss: 0.0840 - acc: 0.9697\n",
      "Epoch 18/100\n",
      "240000/240000 [==============================] - 36s 152us/step - loss: 0.0816 - acc: 0.9708\n",
      "Epoch 19/100\n",
      "240000/240000 [==============================] - 36s 151us/step - loss: 0.0795 - acc: 0.9717\n",
      "Epoch 20/100\n",
      "240000/240000 [==============================] - 35s 145us/step - loss: 0.0775 - acc: 0.9725\n",
      "Epoch 21/100\n",
      "240000/240000 [==============================] - 36s 152us/step - loss: 0.0755 - acc: 0.9733\n",
      "Epoch 22/100\n",
      "240000/240000 [==============================] - 36s 151us/step - loss: 0.0738 - acc: 0.9740\n",
      "Epoch 23/100\n",
      "240000/240000 [==============================] - 35s 148us/step - loss: 0.0720 - acc: 0.9749\n",
      "Epoch 24/100\n",
      "240000/240000 [==============================] - 35s 148us/step - loss: 0.0704 - acc: 0.9758\n",
      "Epoch 25/100\n",
      "240000/240000 [==============================] - 36s 152us/step - loss: 0.0688 - acc: 0.9764\n",
      "Epoch 26/100\n",
      "240000/240000 [==============================] - 35s 147us/step - loss: 0.0673 - acc: 0.9770\n",
      "Epoch 27/100\n",
      "240000/240000 [==============================] - 36s 151us/step - loss: 0.0657 - acc: 0.9775\n",
      "Epoch 28/100\n",
      "240000/240000 [==============================] - 37s 153us/step - loss: 0.0644 - acc: 0.9784\n",
      "Epoch 29/100\n",
      "240000/240000 [==============================] - 35s 144us/step - loss: 0.0630 - acc: 0.9791\n",
      "Epoch 30/100\n",
      "240000/240000 [==============================] - 36s 149us/step - loss: 0.0617 - acc: 0.9797\n",
      "Epoch 31/100\n",
      "240000/240000 [==============================] - 36s 149us/step - loss: 0.0605 - acc: 0.9802\n",
      "Epoch 32/100\n",
      "240000/240000 [==============================] - 36s 149us/step - loss: 0.0594 - acc: 0.9806\n",
      "Epoch 33/100\n",
      "240000/240000 [==============================] - 36s 151us/step - loss: 0.0581 - acc: 0.9813\n",
      "Epoch 34/100\n",
      "240000/240000 [==============================] - 36s 150us/step - loss: 0.0570 - acc: 0.9819\n",
      "Epoch 35/100\n",
      "240000/240000 [==============================] - 36s 148us/step - loss: 0.0559 - acc: 0.9821\n",
      "Epoch 36/100\n",
      "240000/240000 [==============================] - 36s 149us/step - loss: 0.0548 - acc: 0.9828\n",
      "Epoch 37/100\n",
      "240000/240000 [==============================] - 36s 149us/step - loss: 0.0537 - acc: 0.9834\n",
      "Epoch 38/100\n",
      "240000/240000 [==============================] - 36s 149us/step - loss: 0.0528 - acc: 0.9838\n",
      "Epoch 39/100\n",
      "240000/240000 [==============================] - 36s 148us/step - loss: 0.0518 - acc: 0.9842\n",
      "Epoch 40/100\n",
      "240000/240000 [==============================] - 36s 148us/step - loss: 0.0507 - acc: 0.9848\n",
      "Epoch 41/100\n",
      "240000/240000 [==============================] - 36s 149us/step - loss: 0.0498 - acc: 0.9851\n",
      "Epoch 42/100\n",
      "240000/240000 [==============================] - 35s 148us/step - loss: 0.0489 - acc: 0.9854\n",
      "Epoch 43/100\n",
      "240000/240000 [==============================] - 36s 149us/step - loss: 0.0480 - acc: 0.9859\n",
      "Epoch 44/100\n",
      "240000/240000 [==============================] - 36s 148us/step - loss: 0.0471 - acc: 0.9862\n",
      "Epoch 45/100\n",
      "240000/240000 [==============================] - 37s 152us/step - loss: 0.0463 - acc: 0.9868\n",
      "Epoch 46/100\n",
      "240000/240000 [==============================] - 36s 150us/step - loss: 0.0454 - acc: 0.9872\n",
      "Epoch 47/100\n",
      "240000/240000 [==============================] - 36s 150us/step - loss: 0.0445 - acc: 0.9874\n",
      "Epoch 48/100\n",
      "240000/240000 [==============================] - 36s 148us/step - loss: 0.0438 - acc: 0.9879\n",
      "Epoch 49/100\n",
      "240000/240000 [==============================] - 36s 149us/step - loss: 0.0429 - acc: 0.9882\n",
      "Epoch 50/100\n",
      "240000/240000 [==============================] - 36s 150us/step - loss: 0.0421 - acc: 0.9886\n",
      "Epoch 51/100\n",
      "240000/240000 [==============================] - 36s 152us/step - loss: 0.0414 - acc: 0.9888\n",
      "Epoch 52/100\n",
      "240000/240000 [==============================] - 36s 149us/step - loss: 0.0406 - acc: 0.9893\n",
      "Epoch 53/100\n",
      "240000/240000 [==============================] - 35s 147us/step - loss: 0.0399 - acc: 0.9896\n",
      "Epoch 54/100\n",
      "240000/240000 [==============================] - 36s 149us/step - loss: 0.0392 - acc: 0.9898\n",
      "Epoch 55/100\n",
      "240000/240000 [==============================] - 35s 146us/step - loss: 0.0384 - acc: 0.9901\n",
      "Epoch 56/100\n",
      "240000/240000 [==============================] - 36s 150us/step - loss: 0.0377 - acc: 0.9905\n",
      "Epoch 57/100\n",
      "240000/240000 [==============================] - 35s 147us/step - loss: 0.0370 - acc: 0.9907\n",
      "Epoch 58/100\n",
      "240000/240000 [==============================] - 36s 148us/step - loss: 0.0364 - acc: 0.9911\n",
      "Epoch 59/100\n",
      "240000/240000 [==============================] - 36s 149us/step - loss: 0.0357 - acc: 0.9913\n",
      "Epoch 60/100\n",
      "240000/240000 [==============================] - 36s 151us/step - loss: 0.0350 - acc: 0.9915\n",
      "Epoch 61/100\n",
      "240000/240000 [==============================] - 37s 153us/step - loss: 0.0343 - acc: 0.9918\n",
      "Epoch 62/100\n",
      "240000/240000 [==============================] - 37s 153us/step - loss: 0.0337 - acc: 0.9922\n",
      "Epoch 63/100\n",
      "240000/240000 [==============================] - 36s 150us/step - loss: 0.0331 - acc: 0.9923\n",
      "Epoch 64/100\n",
      "240000/240000 [==============================] - 36s 149us/step - loss: 0.0325 - acc: 0.9926\n",
      "Epoch 65/100\n",
      "240000/240000 [==============================] - 36s 151us/step - loss: 0.0319 - acc: 0.9928\n",
      "Epoch 66/100\n",
      "240000/240000 [==============================] - 36s 149us/step - loss: 0.0313 - acc: 0.9931\n",
      "Epoch 67/100\n",
      "240000/240000 [==============================] - 36s 149us/step - loss: 0.0307 - acc: 0.9931\n",
      "Epoch 68/100\n",
      "240000/240000 [==============================] - 35s 147us/step - loss: 0.0302 - acc: 0.9935\n",
      "Epoch 69/100\n",
      "240000/240000 [==============================] - 36s 150us/step - loss: 0.0296 - acc: 0.9938\n",
      "Epoch 70/100\n",
      "240000/240000 [==============================] - 35s 147us/step - loss: 0.0291 - acc: 0.9939\n",
      "Epoch 71/100\n",
      "240000/240000 [==============================] - 35s 148us/step - loss: 0.0286 - acc: 0.9941\n",
      "Epoch 72/100\n",
      "240000/240000 [==============================] - 36s 152us/step - loss: 0.0280 - acc: 0.9943\n",
      "Epoch 73/100\n",
      "240000/240000 [==============================] - 37s 156us/step - loss: 0.0275 - acc: 0.9945\n",
      "Epoch 74/100\n",
      "240000/240000 [==============================] - 36s 149us/step - loss: 0.0270 - acc: 0.9947\n",
      "Epoch 75/100\n",
      "240000/240000 [==============================] - 36s 149us/step - loss: 0.0265 - acc: 0.9949\n",
      "Epoch 76/100\n",
      "240000/240000 [==============================] - 35s 146us/step - loss: 0.0261 - acc: 0.9950\n",
      "Epoch 77/100\n",
      "240000/240000 [==============================] - 35s 145us/step - loss: 0.0255 - acc: 0.9952\n",
      "Epoch 78/100\n",
      "240000/240000 [==============================] - 35s 146us/step - loss: 0.0251 - acc: 0.9954\n",
      "Epoch 79/100\n",
      "240000/240000 [==============================] - 36s 151us/step - loss: 0.0246 - acc: 0.9955\n",
      "Epoch 80/100\n",
      "240000/240000 [==============================] - 36s 149us/step - loss: 0.0242 - acc: 0.9957\n",
      "Epoch 81/100\n",
      "240000/240000 [==============================] - 36s 150us/step - loss: 0.0238 - acc: 0.9958\n",
      "Epoch 82/100\n",
      "240000/240000 [==============================] - 36s 150us/step - loss: 0.0233 - acc: 0.9958\n",
      "Epoch 83/100\n",
      "240000/240000 [==============================] - 36s 151us/step - loss: 0.0229 - acc: 0.9961\n",
      "Epoch 84/100\n",
      "240000/240000 [==============================] - 37s 153us/step - loss: 0.0225 - acc: 0.9962\n",
      "Epoch 85/100\n",
      "240000/240000 [==============================] - 36s 150us/step - loss: 0.0221 - acc: 0.9964\n",
      "Epoch 86/100\n",
      "240000/240000 [==============================] - 36s 150us/step - loss: 0.0217 - acc: 0.9964\n",
      "Epoch 87/100\n",
      "240000/240000 [==============================] - 37s 153us/step - loss: 0.0213 - acc: 0.9966\n",
      "Epoch 88/100\n",
      "240000/240000 [==============================] - 36s 150us/step - loss: 0.0208 - acc: 0.9968\n",
      "Epoch 89/100\n",
      "240000/240000 [==============================] - 36s 150us/step - loss: 0.0203 - acc: 0.9970\n",
      "Epoch 90/100\n",
      "240000/240000 [==============================] - 36s 149us/step - loss: 0.0199 - acc: 0.9971\n",
      "Epoch 91/100\n",
      "240000/240000 [==============================] - 36s 148us/step - loss: 0.0195 - acc: 0.9972\n",
      "Epoch 92/100\n",
      "240000/240000 [==============================] - 37s 152us/step - loss: 0.0192 - acc: 0.9972\n",
      "Epoch 93/100\n",
      "240000/240000 [==============================] - 35s 148us/step - loss: 0.0189 - acc: 0.9974\n",
      "Epoch 94/100\n",
      "240000/240000 [==============================] - 36s 149us/step - loss: 0.0186 - acc: 0.9974\n",
      "Epoch 95/100\n",
      "240000/240000 [==============================] - 36s 148us/step - loss: 0.0182 - acc: 0.9975\n",
      "Epoch 96/100\n",
      "240000/240000 [==============================] - 35s 148us/step - loss: 0.0180 - acc: 0.9976\n",
      "Epoch 97/100\n",
      "240000/240000 [==============================] - 36s 151us/step - loss: 0.0176 - acc: 0.9977\n",
      "Epoch 98/100\n",
      "240000/240000 [==============================] - 36s 148us/step - loss: 0.0173 - acc: 0.9978\n",
      "Epoch 99/100\n",
      "240000/240000 [==============================] - 36s 150us/step - loss: 0.0171 - acc: 0.9978\n",
      "Epoch 100/100\n",
      "240000/240000 [==============================] - 36s 149us/step - loss: 0.0168 - acc: 0.9979\n"
     ]
    }
   ],
   "source": [
    "start = time.time()\n",
    "model6.fit(X_train,Y_train)\n",
    "end = time.time()"
   ]
  },
  {
   "cell_type": "code",
   "execution_count": 426,
   "metadata": {},
   "outputs": [
    {
     "name": "stdout",
     "output_type": "stream",
     "text": [
      "Training time\n",
      "3589.56744909\n"
     ]
    }
   ],
   "source": [
    "print('Training time')\n",
    "print((end-start))"
   ]
  },
  {
   "cell_type": "code",
   "execution_count": 435,
   "metadata": {},
   "outputs": [],
   "source": [
    "start = time.time()\n",
    "Y_test_pred6 = model6.predict(X_test)\n",
    "end = time.time()"
   ]
  },
  {
   "cell_type": "code",
   "execution_count": 436,
   "metadata": {},
   "outputs": [
    {
     "name": "stdout",
     "output_type": "stream",
     "text": [
      "Testing time\n",
      "0.268340826035\n"
     ]
    }
   ],
   "source": [
    "print('Testing time')\n",
    "print((end-start))"
   ]
  },
  {
   "cell_type": "code",
   "execution_count": 437,
   "metadata": {},
   "outputs": [
    {
     "data": {
      "text/plain": [
       "0.9981"
      ]
     },
     "execution_count": 437,
     "metadata": {},
     "output_type": "execute_result"
    }
   ],
   "source": [
    "accuracy_score(Y_test,Y_test_pred6)"
   ]
  },
  {
   "cell_type": "code",
   "execution_count": 438,
   "metadata": {},
   "outputs": [],
   "source": [
    "Y_train_pred6 = model6.predict(X_train)"
   ]
  },
  {
   "cell_type": "code",
   "execution_count": 439,
   "metadata": {},
   "outputs": [
    {
     "data": {
      "text/plain": [
       "0.9980375"
      ]
     },
     "execution_count": 439,
     "metadata": {},
     "output_type": "execute_result"
    }
   ],
   "source": [
    "accuracy_score(Y_train,Y_train_pred6)"
   ]
  },
  {
   "cell_type": "code",
   "execution_count": 467,
   "metadata": {},
   "outputs": [
    {
     "data": {
      "text/plain": [
       "<BarContainer object of 6 artists>"
      ]
     },
     "execution_count": 467,
     "metadata": {},
     "output_type": "execute_result"
    },
    {
     "data": {
      "image/png": "[encoded data removed]",
      "text/plain": [
       "<Figure size 1080x216 with 1 Axes>"
      ]
     },
     "metadata": {
      "needs_background": "light"
     },
     "output_type": "display_data"
    }
   ],
   "source": [
    "names = ['kNN', 'SVM', 'NB','ANN','LR','DT']\n",
    "values = [92.58,97.05,99.28,99.83,99.99,100]\n",
    "f = plt.figure(figsize=(15,3),num=10)\n",
    "plt.subplot(131)\n",
    "plt.bar(names, values)"
   ]
  },
  {
   "cell_type": "code",
   "execution_count": 468,
   "metadata": {},
   "outputs": [],
   "source": [
    "f.savefig('training_accuracy_figure.png',bbox_inches='tight')"
   ]
  },
  {
   "cell_type": "code",
   "execution_count": 469,
   "metadata": {},
   "outputs": [
    {
     "data": {
      "text/plain": [
       "<BarContainer object of 6 artists>"
      ]
     },
     "execution_count": 469,
     "metadata": {},
     "output_type": "execute_result"
    },
    {
     "data": {
      "image/png": "[encoded data removed]",
      "text/plain": [
       "<Figure size 1080x216 with 1 Axes>"
      ]
     },
     "metadata": {
      "needs_background": "light"
     },
     "output_type": "display_data"
    }
   ],
   "source": [
    "names = ['kNN', 'SVM', 'NB','ANN','LR','DT']\n",
    "values = [90.57,96.51,99.26,99.81,100,100]\n",
    "f = plt.figure(figsize=(15,3))\n",
    "plt.subplot(131)\n",
    "plt.bar(names, values)"
   ]
  },
  {
   "cell_type": "code",
   "execution_count": 470,
   "metadata": {},
   "outputs": [],
   "source": [
    "f.savefig('test_accuracy_figure.png',bbox_inches='tight')"
   ]
  },
  {
   "cell_type": "code",
   "execution_count": 1,
   "metadata": {},
   "outputs": [],
   "source": [
    "import numpy as np\n",
    "import matplotlib.pyplot as plt"
   ]
  },
  {
   "cell_type": "code",
   "execution_count": 3,
   "metadata": {},
   "outputs": [
    {
     "data": {
      "text/plain": [
       "<BarContainer object of 6 artists>"
      ]
     },
     "execution_count": 3,
     "metadata": {},
     "output_type": "execute_result"
    },
    {
     "data": {
      "image/png": "[encoded data removed]",
      "text/plain": [
       "<Figure size 1080x216 with 1 Axes>"
      ]
     },
     "metadata": {
      "needs_background": "light"
     },
     "output_type": "display_data"
    }
   ],
   "source": [
    "names = ['kNN', 'SVM', 'NB','ANN','LR','DT']\n",
    "values = [3.225,1008.156,0.131,3589.567,8.456,0.554]\n",
    "f = plt.figure(figsize=(15,3))\n",
    "plt.subplot(131)\n",
    "plt.bar(names, values)"
   ]
  },
  {
   "cell_type": "code",
   "execution_count": 4,
   "metadata": {},
   "outputs": [],
   "source": [
    "f.savefig('train_time_figure.png',bbox_inches='tight')"
   ]
  },
  {
   "cell_type": "code",
   "execution_count": 5,
   "metadata": {},
   "outputs": [
    {
     "data": {
      "text/plain": [
       "<BarContainer object of 6 artists>"
      ]
     },
     "execution_count": 5,
     "metadata": {},
     "output_type": "execute_result"
    },
    {
     "data": {
      "image/png": "[encoded data removed]",
      "text/plain": [
       "<Figure size 1080x216 with 1 Axes>"
      ]
     },
     "metadata": {
      "needs_background": "light"
     },
     "output_type": "display_data"
    }
   ],
   "source": [
    "names = ['kNN', 'SVM', 'NB','ANN','LR','DT']\n",
    "values = [7.964,9.718,0.006,0.268,0.001,0.003]\n",
    "f = plt.figure(figsize=(15,3))\n",
    "plt.subplot(131)\n",
    "plt.bar(names, values)"
   ]
  },
  {
   "cell_type": "code",
   "execution_count": 6,
   "metadata": {},
   "outputs": [],
   "source": [
    "f.savefig('test_time_figure.png',bbox_inches='tight')"
   ]
  }
 ],
 "metadata": {
  "kernelspec": {
   "display_name": "Python 3",
   "language": "python",
   "name": "python3"
  },
  "language_info": {
   "codemirror_mode": {
    "name": "ipython",
    "version": 3
   },
   "file_extension": ".py",
   "mimetype": "text/x-python",
   "name": "python",
   "nbconvert_exporter": "python",
   "pygments_lexer": "ipython3",
   "version": "3.6.9"
  }
 },
 "nbformat": 4,
 "nbformat_minor": 2
}
